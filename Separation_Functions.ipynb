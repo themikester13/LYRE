{
 "cells": [
  {
   "cell_type": "code",
   "execution_count": 1,
   "metadata": {},
   "outputs": [],
   "source": [
    "import sys\n",
    "import nussl\n",
    "from nussl import DeepSeparation, AudioSignal, separation\n",
    "import matplotlib.pyplot as plt\n",
    "\n",
    "def get_vocals(filePath):\n",
    "    myString = str(filePath)\n",
    "    myStrings = myString.split('.')\n",
    "    myString = myStrinsg[0]\n",
    "    model_file = nussl.efz_utils.download_trained_model('vocals_44k.pth')\n",
    "    my_audio = nussl.AudioSignal(filePath)\n",
    "    separation = DeepSeparation(my_audio, model_path=model_file, num_sources=2)\n",
    "    separation.run()\n",
    "    sources = separation.make_audio_signals()\n",
    "    for i, s in enumerate(sources):\n",
    "        s.write_audio_to_file(f'separated_{myString}_source_{i}.wav')\n",
    "\n",
    "def get_specific_minute_vocals(filePath, minute, sr=44100):\n",
    "    myString = str(filePath)\n",
    "    myStrings = myString.split('.')\n",
    "    #print(myStrings)\n",
    "    myString = myStrings[0]\n",
    "    model_file = nussl.efz_utils.download_trained_model('vocals_44k.pth')\n",
    "    my_audio = nussl.AudioSignal(filePath)\n",
    "    \n",
    "    end = sr*((minute+1)*60)\n",
    "    if end > my_audio.signal_length:\n",
    "        end = my_audio.signal_length\n",
    "    my_audio.set_active_region(sr*minute*60, end)\n",
    "    print(my_audio)\n",
    "    separation = DeepSeparation(my_audio, model_path=model_file, num_sources=2)\n",
    "    separation.run()\n",
    "    sources = separation.make_audio_signals()\n",
    "    for i, s in enumerate(sources):\n",
    "        s.write_audio_to_file(f'separated_{myString}_source_{i}_minute_{minute}.wav')\n",
    "    \n",
    "    #If you do this you have to look at source minutes file by file\n",
    "def go_minute_by_minute(filePath, sr=44100):\n",
    "    my_audio = nussl.AudioSignal(filePath)\n",
    "    #print(my_audio.signal_length)\n",
    "    maxminute = ((my_audio.signal_length//60) // sr) + 1\n",
    "    for x in range(maxminute):\n",
    "        #print(maxminute)\n",
    "        get_specific_minute_vocals(filePath, x, 44100)\n",
    "        print(\"minute: \"+ str(x) + \" done\")"
   ]
  },
  {
   "cell_type": "code",
   "execution_count": null,
   "metadata": {},
   "outputs": [],
   "source": []
  }
 ],
 "metadata": {
  "kernelspec": {
   "display_name": "Python 3",
   "language": "python",
   "name": "python3"
  },
  "language_info": {
   "codemirror_mode": {
    "name": "ipython",
    "version": 3
   },
   "file_extension": ".py",
   "mimetype": "text/x-python",
   "name": "python",
   "nbconvert_exporter": "python",
   "pygments_lexer": "ipython3",
   "version": "3.6.6"
  }
 },
 "nbformat": 4,
 "nbformat_minor": 2
}
